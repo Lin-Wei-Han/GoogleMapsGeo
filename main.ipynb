{
 "cells": [
  {
   "cell_type": "code",
   "execution_count": 1,
   "metadata": {},
   "outputs": [
    {
     "name": "stderr",
     "output_type": "stream",
     "text": [
      "C:\\Users\\xcswapJohn\\AppData\\Local\\Temp\\ipykernel_24944\\1458071217.py:2: DeprecationWarning: \n",
      "Pyarrow will become a required dependency of pandas in the next major release of pandas (pandas 3.0),\n",
      "(to allow more performant data types, such as the Arrow string type, and better interoperability with other libraries)\n",
      "but was not found to be installed on your system.\n",
      "If this would cause problems for you,\n",
      "please provide us feedback at https://github.com/pandas-dev/pandas/issues/54466\n",
      "        \n",
      "  import pandas as pd\n"
     ]
    }
   ],
   "source": [
    "from googleGeoAPI import googleGeo\n",
    "import pandas as pd\n",
    "import configparser\n",
    "\n",
    "config = configparser.ConfigParser()\n",
    "config.read('config.ini')\n",
    "API_KEY = config['Geo']['API_KEY']"
   ]
  },
  {
   "cell_type": "code",
   "execution_count": 2,
   "metadata": {},
   "outputs": [
    {
     "data": {
      "text/html": [
       "<div>\n",
       "<style scoped>\n",
       "    .dataframe tbody tr th:only-of-type {\n",
       "        vertical-align: middle;\n",
       "    }\n",
       "\n",
       "    .dataframe tbody tr th {\n",
       "        vertical-align: top;\n",
       "    }\n",
       "\n",
       "    .dataframe thead th {\n",
       "        text-align: right;\n",
       "    }\n",
       "</style>\n",
       "<table border=\"1\" class=\"dataframe\">\n",
       "  <thead>\n",
       "    <tr style=\"text-align: right;\">\n",
       "      <th></th>\n",
       "      <th>居住地址</th>\n",
       "    </tr>\n",
       "  </thead>\n",
       "  <tbody>\n",
       "    <tr>\n",
       "      <th>0</th>\n",
       "      <td>屏東縣車城鄉保力村</td>\n",
       "    </tr>\n",
       "    <tr>\n",
       "      <th>1</th>\n",
       "      <td>屏東縣琉球鄉天福村</td>\n",
       "    </tr>\n",
       "    <tr>\n",
       "      <th>4</th>\n",
       "      <td>屏東縣內埔鄉龍潭村</td>\n",
       "    </tr>\n",
       "    <tr>\n",
       "      <th>5</th>\n",
       "      <td>屏東縣屏東市公園里</td>\n",
       "    </tr>\n",
       "    <tr>\n",
       "      <th>6</th>\n",
       "      <td>屏東縣車城鄉田中村</td>\n",
       "    </tr>\n",
       "    <tr>\n",
       "      <th>...</th>\n",
       "      <td>...</td>\n",
       "    </tr>\n",
       "    <tr>\n",
       "      <th>4591</th>\n",
       "      <td>屏東縣屏東市明正里</td>\n",
       "    </tr>\n",
       "    <tr>\n",
       "      <th>5192</th>\n",
       "      <td>屏東縣東港鎮興東里</td>\n",
       "    </tr>\n",
       "    <tr>\n",
       "      <th>5218</th>\n",
       "      <td>屏東縣屏東市泰安里</td>\n",
       "    </tr>\n",
       "    <tr>\n",
       "      <th>5468</th>\n",
       "      <td>屏東縣屏東市萬年里</td>\n",
       "    </tr>\n",
       "    <tr>\n",
       "      <th>5527</th>\n",
       "      <td>屏東縣屏東市崇禮里</td>\n",
       "    </tr>\n",
       "  </tbody>\n",
       "</table>\n",
       "<p>425 rows × 1 columns</p>\n",
       "</div>"
      ],
      "text/plain": [
       "           居住地址\n",
       "0     屏東縣車城鄉保力村\n",
       "1     屏東縣琉球鄉天福村\n",
       "4     屏東縣內埔鄉龍潭村\n",
       "5     屏東縣屏東市公園里\n",
       "6     屏東縣車城鄉田中村\n",
       "...         ...\n",
       "4591  屏東縣屏東市明正里\n",
       "5192  屏東縣東港鎮興東里\n",
       "5218  屏東縣屏東市泰安里\n",
       "5468  屏東縣屏東市萬年里\n",
       "5527  屏東縣屏東市崇禮里\n",
       "\n",
       "[425 rows x 1 columns]"
      ]
     },
     "execution_count": 2,
     "metadata": {},
     "output_type": "execute_result"
    }
   ],
   "source": [
    "data = pd.read_csv('data.csv')\n",
    "data = data.drop_duplicates(subset = '居住地址', keep = 'first')\n",
    "data"
   ]
  },
  {
   "cell_type": "code",
   "execution_count": 3,
   "metadata": {},
   "outputs": [],
   "source": [
    "googleGeo = googleGeo(api = API_KEY, keyword = '醫院')\n"
   ]
  },
  {
   "cell_type": "code",
   "execution_count": 4,
   "metadata": {},
   "outputs": [
    {
     "data": {
      "text/html": [
       "<div>\n",
       "<style scoped>\n",
       "    .dataframe tbody tr th:only-of-type {\n",
       "        vertical-align: middle;\n",
       "    }\n",
       "\n",
       "    .dataframe tbody tr th {\n",
       "        vertical-align: top;\n",
       "    }\n",
       "\n",
       "    .dataframe thead th {\n",
       "        text-align: right;\n",
       "    }\n",
       "</style>\n",
       "<table border=\"1\" class=\"dataframe\">\n",
       "  <thead>\n",
       "    <tr style=\"text-align: right;\">\n",
       "      <th></th>\n",
       "      <th>居住地址</th>\n",
       "      <th>lat</th>\n",
       "      <th>lng</th>\n",
       "    </tr>\n",
       "  </thead>\n",
       "  <tbody>\n",
       "    <tr>\n",
       "      <th>0</th>\n",
       "      <td>屏東縣車城鄉保力村</td>\n",
       "      <td>22.073003</td>\n",
       "      <td>120.775222</td>\n",
       "    </tr>\n",
       "    <tr>\n",
       "      <th>1</th>\n",
       "      <td>屏東縣琉球鄉天福村</td>\n",
       "      <td>22.328972</td>\n",
       "      <td>120.359404</td>\n",
       "    </tr>\n",
       "    <tr>\n",
       "      <th>4</th>\n",
       "      <td>屏東縣內埔鄉龍潭村</td>\n",
       "      <td>22.677930</td>\n",
       "      <td>120.601291</td>\n",
       "    </tr>\n",
       "    <tr>\n",
       "      <th>5</th>\n",
       "      <td>屏東縣屏東市公園里</td>\n",
       "      <td>22.671066</td>\n",
       "      <td>120.489266</td>\n",
       "    </tr>\n",
       "    <tr>\n",
       "      <th>6</th>\n",
       "      <td>屏東縣車城鄉田中村</td>\n",
       "      <td>22.082681</td>\n",
       "      <td>120.722062</td>\n",
       "    </tr>\n",
       "    <tr>\n",
       "      <th>...</th>\n",
       "      <td>...</td>\n",
       "      <td>...</td>\n",
       "      <td>...</td>\n",
       "    </tr>\n",
       "    <tr>\n",
       "      <th>4591</th>\n",
       "      <td>屏東縣屏東市明正里</td>\n",
       "      <td>22.676155</td>\n",
       "      <td>120.490123</td>\n",
       "    </tr>\n",
       "    <tr>\n",
       "      <th>5192</th>\n",
       "      <td>屏東縣東港鎮興東里</td>\n",
       "      <td>22.476877</td>\n",
       "      <td>120.467446</td>\n",
       "    </tr>\n",
       "    <tr>\n",
       "      <th>5218</th>\n",
       "      <td>屏東縣屏東市泰安里</td>\n",
       "      <td>22.675828</td>\n",
       "      <td>120.486884</td>\n",
       "    </tr>\n",
       "    <tr>\n",
       "      <th>5468</th>\n",
       "      <td>屏東縣屏東市萬年里</td>\n",
       "      <td>22.665109</td>\n",
       "      <td>120.486884</td>\n",
       "    </tr>\n",
       "    <tr>\n",
       "      <th>5527</th>\n",
       "      <td>屏東縣屏東市崇禮里</td>\n",
       "      <td>22.671180</td>\n",
       "      <td>120.485084</td>\n",
       "    </tr>\n",
       "  </tbody>\n",
       "</table>\n",
       "<p>425 rows × 3 columns</p>\n",
       "</div>"
      ],
      "text/plain": [
       "           居住地址        lat         lng\n",
       "0     屏東縣車城鄉保力村  22.073003  120.775222\n",
       "1     屏東縣琉球鄉天福村  22.328972  120.359404\n",
       "4     屏東縣內埔鄉龍潭村  22.677930  120.601291\n",
       "5     屏東縣屏東市公園里  22.671066  120.489266\n",
       "6     屏東縣車城鄉田中村  22.082681  120.722062\n",
       "...         ...        ...         ...\n",
       "4591  屏東縣屏東市明正里  22.676155  120.490123\n",
       "5192  屏東縣東港鎮興東里  22.476877  120.467446\n",
       "5218  屏東縣屏東市泰安里  22.675828  120.486884\n",
       "5468  屏東縣屏東市萬年里  22.665109  120.486884\n",
       "5527  屏東縣屏東市崇禮里  22.671180  120.485084\n",
       "\n",
       "[425 rows x 3 columns]"
      ]
     },
     "execution_count": 4,
     "metadata": {},
     "output_type": "execute_result"
    }
   ],
   "source": [
    "# 取得經緯度資訊\n",
    "\n",
    "def apply_geocode(row):\n",
    "    lat, lng = googleGeo.geocode_address_google(row['居住地址'])\n",
    "    return pd.Series([lat, lng])\n",
    "\n",
    "data[['lat', 'lng']] = data.apply(apply_geocode, axis=1)\n",
    "data"
   ]
  },
  {
   "cell_type": "code",
   "execution_count": null,
   "metadata": {},
   "outputs": [],
   "source": [
    "data.to_csv('data_geo.csv', index = False)"
   ]
  },
  {
   "cell_type": "code",
   "execution_count": null,
   "metadata": {},
   "outputs": [],
   "source": [
    "data = pd.read_csv('data_geo.csv').drop(['Unnamed: 0'], axis = 1)\n",
    "data"
   ]
  },
  {
   "cell_type": "code",
   "execution_count": null,
   "metadata": {},
   "outputs": [],
   "source": [
    "# 取得醫院資訊\n",
    "\n",
    "location_keyword = '醫院'\n",
    "\n",
    "def apply_hospital_geocode(row):\n",
    "    lat = row['lat']\n",
    "    lng = row['lng']\n",
    "    distances = googleGeo.find_nearest_places(lat, lng, location_keyword)\n",
    "    location_count, nearest_location_distance = googleGeo.extract_place(distances)\n",
    "    return pd.Series([location_count, nearest_location_distance])\n",
    "\n",
    "data[['hospital_count', 'nearest_hospital_distance']] = data.apply(apply_hospital_geocode, axis=1)\n",
    "data"
   ]
  },
  {
   "cell_type": "code",
   "execution_count": null,
   "metadata": {},
   "outputs": [],
   "source": [
    "# 取得便利商店資訊\n",
    "\n",
    "location_keyword = '便利商店'\n",
    "\n",
    "def apply_hospital_geocode(row):\n",
    "    lat = row['lat']\n",
    "    lng = row['lng']\n",
    "    distances = googleGeo.find_nearest_places(lat, lng, location_keyword)\n",
    "    location_count, nearest_location_distance = googleGeo.extract_place(distances)\n",
    "    return pd.Series([location_count, nearest_location_distance])\n",
    "\n",
    "data[['store_count', 'nearest_store_distance']] = data.apply(apply_hospital_geocode, axis=1)\n",
    "data"
   ]
  },
  {
   "cell_type": "code",
   "execution_count": null,
   "metadata": {},
   "outputs": [],
   "source": [
    "data.to_csv('data_geo.csv', index = False)"
   ]
  }
 ],
 "metadata": {
  "kernelspec": {
   "display_name": "Python 3",
   "language": "python",
   "name": "python3"
  },
  "language_info": {
   "codemirror_mode": {
    "name": "ipython",
    "version": 3
   },
   "file_extension": ".py",
   "mimetype": "text/x-python",
   "name": "python",
   "nbconvert_exporter": "python",
   "pygments_lexer": "ipython3",
   "version": "3.10.9"
  }
 },
 "nbformat": 4,
 "nbformat_minor": 2
}
